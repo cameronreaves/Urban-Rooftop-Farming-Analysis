{
 "cells": [
  {
   "cell_type": "code",
   "execution_count": 10,
   "metadata": {},
   "outputs": [],
   "source": [
    "import numpy as np\n",
    "import pandas as pd\n",
    "import matplotlib\n",
    "import matplotlib.pyplot as plt\n",
    "import seaborn as sns"
   ]
  },
  {
   "cell_type": "code",
   "execution_count": 11,
   "metadata": {},
   "outputs": [],
   "source": [
    "google = pd.read_csv('../data/google.csv')\n",
    "with open('states.txt', 'r') as f:\n",
    "    states = f.readlines() \n",
    "us_states = [s.strip() for s in states]\n",
    "us_states.pop()\n",
    "us_states.insert(-1,'District of Columbia')\n",
    "# Only include US States\n",
    "google = google[google['state_name'].isin(us_states)]"
   ]
  },
  {
   "cell_type": "code",
   "execution_count": 12,
   "metadata": {},
   "outputs": [],
   "source": [
    "ne = ['Connecticut','Maine', 'Massachusetts','New Hampshire','Rhode Island','Vermont', \n",
    "      'New Jersey','New York','Pennsylvania']\n",
    "\n",
    "\n",
    "mw = ['Indiana','Illinois','Michigan','Ohio','Wisconsin','Iowa','Nebraska','Kansas','North Dakota',\n",
    "      'Minnesota','South Dakota','Missouri']\n",
    "\n",
    "\n",
    "s = ['Delaware','District of Columbia','Florida','Georgia','Maryland','North Carolina','South Carolina',\n",
    "     'Virginia','West Virginia','Alabama','Kentucky','Mississippi','Tennessee','Arkansas','Louisiana',\n",
    "     'Oklahoma','Texas']\n",
    "\n",
    "w = ['Arizona','Colorado', 'Idaho', 'New Mexico', 'Montana', 'Utah', 'Nevada','Wyoming', 'Alaska',\n",
    "     'California', 'Hawaii', 'Oregon', 'Washington']\n",
    "\n",
    "states = list(google['state_name'].unique())\n",
    "\n",
    "mapped_dict = {}\n",
    "for state in states:\n",
    "    if state in ne:\n",
    "        mapped_dict[state] = 'NE'\n",
    "    elif state in mw:\n",
    "        mapped_dict[state] = 'MW'\n",
    "    elif state in s:\n",
    "        mapped_dict[state] = 'S'\n",
    "    elif state in w:\n",
    "        mapped_dict[state] = 'W'\n",
    "        \n",
    "google['census_region'] = google['state_name'].map(mapped_dict)"
   ]
  },
  {
   "cell_type": "code",
   "execution_count": 13,
   "metadata": {},
   "outputs": [],
   "source": [
    "google.to_csv('../data/google_processed.csv',index=False)"
   ]
  }
 ],
 "metadata": {
  "kernelspec": {
   "display_name": "cs109a",
   "language": "python",
   "name": "cs109a"
  },
  "language_info": {
   "codemirror_mode": {
    "name": "ipython",
    "version": 3
   },
   "file_extension": ".py",
   "mimetype": "text/x-python",
   "name": "python",
   "nbconvert_exporter": "python",
   "pygments_lexer": "ipython3",
   "version": "3.7.8"
  }
 },
 "nbformat": 4,
 "nbformat_minor": 2
}
