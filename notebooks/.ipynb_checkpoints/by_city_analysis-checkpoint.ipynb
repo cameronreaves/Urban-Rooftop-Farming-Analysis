{
 "cells": [
  {
   "cell_type": "code",
   "execution_count": 14,
   "metadata": {},
   "outputs": [],
   "source": [
    "import numpy as np\n",
    "import pandas as pd\n",
    "import matplotlib\n",
    "import matplotlib.pyplot as plt\n",
    "import seaborn as sns\n",
    "import json"
   ]
  },
  {
   "cell_type": "code",
   "execution_count": 15,
   "metadata": {},
   "outputs": [],
   "source": [
    "data = pd.read_csv('../data/data_w_pop.csv')\n",
    "data = data.sort_values('pop2020')\n",
    "# Problems with San Diego and Alexandria, count_qualified = 15 and 6\n",
    "data = data[~data['region_name'].isin(['San Diego','Alexandria'])]"
   ]
  },
  {
   "cell_type": "code",
   "execution_count": 3,
   "metadata": {},
   "outputs": [],
   "source": [
    "def estimate(json_file,flat_fraction):\n",
    "    # Each row in dataset contains json-like data structure, converts\n",
    "    sizes = json.loads(json_file)\n",
    "    # Assumptions for parameters\n",
    "    flat_fraction = flat_fraction\n",
    "    kw_per_m2 = .15\n",
    "    threshold = 929.0304\n",
    "    # Initialize lists\n",
    "    kws = []\n",
    "    flat_roof_size = []\n",
    "    roofs = []\n",
    "    # Loop through each bin and the distribution of the capacity                                 \n",
    "    for size in sizes:\n",
    "        # Predicted rooftop solar capacity in KWs DC\n",
    "        kw_install = size[0]\n",
    "        # Number of roofs in this bin\n",
    "        n_roof = size[1]\n",
    "        # Convert to watts, divide by kw / m2, multiply by fraction flat \n",
    "        m2 = kw_install * flat_fraction / kw_per_m2\n",
    "        # Append to lists\n",
    "        kws.append(kw_install)        \n",
    "        flat_roof_size.append(m2)\n",
    "        roofs.append(n_roof)\n",
    "    # Convert to numpy for element-wise multiplication property\n",
    "    flat_roof_size = np.array(flat_roof_size) \n",
    "    roofs = np.array(roofs)\n",
    "    kws = np.array(kws)\n",
    "    # Only considers roofs above 10,000 Square Feet\n",
    "    size_above = flat_roof_size[flat_roof_size > threshold]\n",
    "    roofs_above = roofs[flat_roof_size > threshold] \n",
    "    kws_above = kws[flat_roof_size > threshold]    \n",
    "    # return (total meter squared surface area, number of roofs / farms, total capacity loss to farming)\n",
    "    return (np.sum(size_above * roofs_above),np.sum(roofs_above), np.sum(kws_above * roofs_above * flat_fraction))"
   ]
  },
  {
   "cell_type": "code",
   "execution_count": 4,
   "metadata": {},
   "outputs": [],
   "source": [
    "n = data.shape[0]\n",
    "\n",
    "p_factor = 21.5\n",
    "frac_farmed = 0.6\n",
    "\n",
    "p_by_city = []\n",
    "m2_total_by_city = []\n",
    "n_roofs_by_city = []\n",
    "kwhs_loss_by_city = []\n",
    "\n",
    "flat_fraction_by_city = data['number_of_panels_f'] / data['number_of_panels_total']\n",
    "kwh_frac_total_by_city = data['yearly_sunlight_kwh_total'] / data['kw_total']\n",
    "\n",
    "cities = data['install_size_kw_buckets_json'].to_numpy()\n",
    "\n",
    "for idx, city in enumerate(cities):\n",
    "    # Get capacity total for each city\n",
    "    flat_fraction = flat_fraction_by_city.iloc[idx]\n",
    "    kwh_fraction = kwh_frac_total_by_city.iloc[idx]\n",
    "    m2_total, n_roofs_total, capacity_loss = estimate(city,flat_fraction)\n",
    "\n",
    "    p = m2_total  * p_factor * frac_farmed\n",
    "    kwh = capacity_loss * kwh_fraction\n",
    "\n",
    "    \n",
    "    p_by_city.append(p)\n",
    "    m2_total_by_city.append(m2_total)\n",
    "    n_roofs_by_city.append(n_roofs_total)\n",
    "    kwhs_loss_by_city.append(kwh)"
   ]
  },
  {
   "cell_type": "code",
   "execution_count": 18,
   "metadata": {},
   "outputs": [],
   "source": [
    "# Assign Variables\n",
    "data['p'] = p_by_city\n",
    "data['m2_total'] = m2_total_by_city\n",
    "data['farms'] = n_roofs_by_city\n",
    "data['frac_farms'] = data['farms'] / data['count_qualified']\n",
    "data['p_per_capita'] = data['p'] / data['pop2020']\n",
    "data['kwh_loss'] = kwhs_loss_by_city\n",
    "data['kwh_loss_pct'] = data['kwh_loss'] / data['yearly_sunlight_kwh_total'] * 100\n",
    "\n",
    "# Save\n",
    "data.to_csv('../data/estimates.csv',index=False)"
   ]
  }
 ],
 "metadata": {
  "kernelspec": {
   "display_name": "cs109a",
   "language": "python",
   "name": "cs109a"
  },
  "language_info": {
   "codemirror_mode": {
    "name": "ipython",
    "version": 3
   },
   "file_extension": ".py",
   "mimetype": "text/x-python",
   "name": "python",
   "nbconvert_exporter": "python",
   "pygments_lexer": "ipython3",
   "version": "3.7.8"
  }
 },
 "nbformat": 4,
 "nbformat_minor": 2
}
