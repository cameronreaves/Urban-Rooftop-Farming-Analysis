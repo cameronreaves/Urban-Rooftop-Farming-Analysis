{
 "cells": [
  {
   "cell_type": "code",
   "execution_count": 33,
   "metadata": {},
   "outputs": [],
   "source": [
    "import pandas as pd\n",
    "import sklearn\n",
    "from sklearn.metrics import r2_score\n",
    "from sklearn.linear_model import LinearRegression\n",
    "from sklearn.model_selection import train_test_split\n",
    "from sklearn.metrics import mean_squared_error"
   ]
  },
  {
   "cell_type": "code",
   "execution_count": 26,
   "metadata": {},
   "outputs": [],
   "source": [
    "data = pd.read_csv('../data/estimates.csv')"
   ]
  },
  {
   "cell_type": "code",
   "execution_count": 27,
   "metadata": {},
   "outputs": [
    {
     "data": {
      "text/plain": [
       "Index(['region_name', 'state_name', 'lat_max', 'lat_min', 'lng_max', 'lng_min',\n",
       "       'lat_avg', 'lng_avg', 'yearly_sunlight_kwh_kw_threshold_avg',\n",
       "       'count_qualified', 'percent_covered', 'percent_qualified',\n",
       "       'number_of_panels_n', 'number_of_panels_s', 'number_of_panels_e',\n",
       "       'number_of_panels_w', 'number_of_panels_f', 'number_of_panels_median',\n",
       "       'number_of_panels_total', 'kw_median', 'kw_total',\n",
       "       'yearly_sunlight_kwh_n', 'yearly_sunlight_kwh_s',\n",
       "       'yearly_sunlight_kwh_e', 'yearly_sunlight_kwh_w',\n",
       "       'yearly_sunlight_kwh_f', 'yearly_sunlight_kwh_median',\n",
       "       'yearly_sunlight_kwh_total', 'install_size_kw_buckets_json',\n",
       "       'carbon_offset_metric_tons', 'existing_installs_count', 'census_region',\n",
       "       'name', 'state', 'pop2020', 'density', 'p', 'm2_total', 'farms',\n",
       "       'frac_farms', 'p_per_capita', 'kwh_loss', 'kwh_loss_pct'],\n",
       "      dtype='object')"
      ]
     },
     "execution_count": 27,
     "metadata": {},
     "output_type": "execute_result"
    }
   ],
   "source": [
    "data.columns"
   ]
  },
  {
   "cell_type": "code",
   "execution_count": 28,
   "metadata": {},
   "outputs": [],
   "source": [
    "pred = ['pop2020', 'density','yearly_sunlight_kwh_kw_threshold_avg',\n",
    "        'count_qualified','lat_avg', 'lng_avg','census_region_MW','census_region_NE','census_region_S','census_region_W']"
   ]
  },
  {
   "cell_type": "code",
   "execution_count": 29,
   "metadata": {},
   "outputs": [],
   "source": [
    "data = pd.get_dummies(data,columns=['census_region'])\n"
   ]
  },
  {
   "cell_type": "code",
   "execution_count": 30,
   "metadata": {},
   "outputs": [],
   "source": [
    "X = data[pred]\n",
    "y = data['p_per_capita']\n",
    "\n",
    "X_train, X_test, y_train, y_test = train_test_split(X,y,train_size=0.6)"
   ]
  },
  {
   "cell_type": "code",
   "execution_count": 34,
   "metadata": {},
   "outputs": [
    {
     "data": {
      "text/plain": [
       "0.18810336453093224"
      ]
     },
     "execution_count": 34,
     "metadata": {},
     "output_type": "execute_result"
    }
   ],
   "source": [
    "model = LinearRegression()\n",
    "\n",
    "model.fit(X_train, y_train)\n",
    "\n",
    "train_pred = model.predict(X_train)\n",
    "\n",
    "r2_score(y_train,train_pred)"
   ]
  }
 ],
 "metadata": {
  "kernelspec": {
   "display_name": "cs109a",
   "language": "python",
   "name": "cs109a"
  },
  "language_info": {
   "codemirror_mode": {
    "name": "ipython",
    "version": 3
   },
   "file_extension": ".py",
   "mimetype": "text/x-python",
   "name": "python",
   "nbconvert_exporter": "python",
   "pygments_lexer": "ipython3",
   "version": "3.7.8"
  }
 },
 "nbformat": 4,
 "nbformat_minor": 2
}
