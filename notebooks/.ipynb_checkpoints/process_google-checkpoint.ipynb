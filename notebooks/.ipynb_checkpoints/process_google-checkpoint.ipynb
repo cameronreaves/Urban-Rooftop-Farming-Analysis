{
 "cells": [
  {
   "cell_type": "code",
   "execution_count": 1,
   "metadata": {},
   "outputs": [],
   "source": [
    "import numpy as np\n",
    "import pandas as pd\n",
    "import matplotlib\n",
    "import matplotlib.pyplot as plt\n",
    "import seaborn as sns"
   ]
  },
  {
   "cell_type": "code",
   "execution_count": 2,
   "metadata": {},
   "outputs": [],
   "source": [
    "google = pd.read_csv('../data/google.csv')\n",
    "with open('states.txt', 'r') as f:\n",
    "    states = f.readlines() \n",
    "us_states = [s.strip() for s in states]\n",
    "us_states.pop()\n",
    "# Only include US States\n",
    "google = google[google['state_name'].isin(us_states)]\n",
    "google.to_csv('../data/google_processed.csv',index=False)"
   ]
  }
 ],
 "metadata": {
  "kernelspec": {
   "display_name": "cs109a",
   "language": "python",
   "name": "cs109a"
  },
  "language_info": {
   "codemirror_mode": {
    "name": "ipython",
    "version": 3
   },
   "file_extension": ".py",
   "mimetype": "text/x-python",
   "name": "python",
   "nbconvert_exporter": "python",
   "pygments_lexer": "ipython3",
   "version": "3.7.8"
  }
 },
 "nbformat": 4,
 "nbformat_minor": 2
}
