{
 "cells": [
  {
   "cell_type": "code",
   "execution_count": 1,
   "metadata": {},
   "outputs": [],
   "source": [
    "import numpy as np\n",
    "import pandas as pd\n",
    "import matplotlib\n",
    "import matplotlib.pyplot as plt\n",
    "import seaborn as sns\n",
    "import json\n",
    "from estimate_produce import get_produce"
   ]
  },
  {
   "cell_type": "code",
   "execution_count": 2,
   "metadata": {},
   "outputs": [],
   "source": [
    "data = pd.read_csv('../data/google_processed.csv')"
   ]
  },
  {
   "cell_type": "code",
   "execution_count": 3,
   "metadata": {},
   "outputs": [
    {
     "data": {
      "text/plain": [
       "Index(['region_name', 'state_name', 'lat_max', 'lat_min', 'lng_max', 'lng_min',\n",
       "       'lat_avg', 'lng_avg', 'yearly_sunlight_kwh_kw_threshold_avg',\n",
       "       'count_qualified', 'percent_covered', 'percent_qualified',\n",
       "       'number_of_panels_n', 'number_of_panels_s', 'number_of_panels_e',\n",
       "       'number_of_panels_w', 'number_of_panels_f', 'number_of_panels_median',\n",
       "       'number_of_panels_total', 'kw_median', 'kw_total',\n",
       "       'yearly_sunlight_kwh_n', 'yearly_sunlight_kwh_s',\n",
       "       'yearly_sunlight_kwh_e', 'yearly_sunlight_kwh_w',\n",
       "       'yearly_sunlight_kwh_f', 'yearly_sunlight_kwh_median',\n",
       "       'yearly_sunlight_kwh_total', 'install_size_kw_buckets_json',\n",
       "       'carbon_offset_metric_tons', 'existing_installs_count'],\n",
       "      dtype='object')"
      ]
     },
     "execution_count": 3,
     "metadata": {},
     "output_type": "execute_result"
    }
   ],
   "source": [
    "data.columns"
   ]
  },
  {
   "cell_type": "code",
   "execution_count": 4,
   "metadata": {},
   "outputs": [],
   "source": [
    "ric = data[(data['region_name'] == 'Richmond') & (data['state_name'] == 'Virginia')]"
   ]
  },
  {
   "cell_type": "code",
   "execution_count": 5,
   "metadata": {},
   "outputs": [
    {
     "name": "stdout",
     "output_type": "stream",
     "text": [
      "(2516987.97541152, 313)\n"
     ]
    }
   ],
   "source": [
    "print(get_produce(ric['install_size_kw_buckets_json'].to_numpy()[0]))"
   ]
  },
  {
   "cell_type": "markdown",
   "metadata": {},
   "source": [
    "k = PV Capacity in kilowats <br>\n",
    "s = .250 $kw$ / 1.64 $m^2$  = .15 $kw$ /$m^2$ =  kilowats per sq Meter<br>\n",
    "y = Number of flat panels / total panels for this city <br>\n",
    "$$a_j= \\frac{k_jy_i}{s}$$"
   ]
  },
  {
   "cell_type": "markdown",
   "metadata": {},
   "source": [
    "a = Roof Area in $m^2$ <br>\n",
    "n = Number of Roofs in bin <br>\n",
    "r = 21.5 $lbs$  / $m^2$ = Seasonal Produce Rate per meter squared <br>\n",
    "f = .7 = Fraction of Roof Area Productive <br>\n",
    "\n",
    "\n",
    "$$P_i=rf \\sum_{j=1}^{M} a_j  n_j$$"
   ]
  },
  {
   "cell_type": "code",
   "execution_count": null,
   "metadata": {},
   "outputs": [],
   "source": []
  }
 ],
 "metadata": {
  "kernelspec": {
   "display_name": "cs109a",
   "language": "python",
   "name": "cs109a"
  },
  "language_info": {
   "codemirror_mode": {
    "name": "ipython",
    "version": 3
   },
   "file_extension": ".py",
   "mimetype": "text/x-python",
   "name": "python",
   "nbconvert_exporter": "python",
   "pygments_lexer": "ipython3",
   "version": "3.7.8"
  }
 },
 "nbformat": 4,
 "nbformat_minor": 2
}
